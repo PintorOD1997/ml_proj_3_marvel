{
 "cells": [
  {
   "cell_type": "markdown",
   "metadata": {},
   "source": [
    "# Test 1, Checking the import of the Marvel Dataset Images"
   ]
  },
  {
   "cell_type": "code",
   "execution_count": null,
   "metadata": {},
   "outputs": [],
   "source": [
    "# Using os to create a unique list of the folders in the directory\n",
    "import os\n",
    "images_dir = \"files/MarvelDataSet\"\n",
    "supers = os.listdir(images_dir)\n"
   ]
  },
  {
   "cell_type": "code",
   "execution_count": null,
   "metadata": {},
   "outputs": [],
   "source": [
    "# So, apparently Keras has the nuclear option for creating a dataset from directory with images LOL.\n",
    "import numpy as np\n",
    "import tensorflow as tf\n",
    "from tensorflow import keras\n",
    "from keras import datasets, layers, models\n",
    "from sklearn.model_selection import train_test_split\n"
   ]
  },
  {
   "cell_type": "code",
   "execution_count": null,
   "metadata": {},
   "outputs": [],
   "source": [
    "marvelDataset = keras.utils.image_dataset_from_directory(\n",
    "    images_dir,\n",
    "    labels = \"inferred\",\n",
    "    label_mode = \"int\",\n",
    "    image_size = (256, 256)\n",
    "    )\n",
    "\n",
    "X_train, X_test, y_train, y_test = train_test_split(marvelDataset, test_size=0.20, random_state=42, shuffle=True)"
   ]
  },
  {
   "cell_type": "code",
   "execution_count": null,
   "metadata": {},
   "outputs": [],
   "source": [
    "# CNN1\n",
    "\n",
    "model_CNN1 = models.Sequential()\n",
    "model_CNN1.add(layers.Conv2D(32, (3, 3), activation='relu', input_shape=(32, 32, 3)))\n",
    "model_CNN1.add(layers.MaxPooling2D((2, 2)))\n",
    "model_CNN1.add(layers.Conv2D(64, (3, 3), activation='relu'))\n",
    "model_CNN1.add(layers.MaxPooling2D((2, 2)))\n",
    "model_CNN1.add(layers.Conv2D(64, (3, 3), activation='relu'))\n",
    "model_CNN1.summary()\n"
   ]
  },
  {
   "cell_type": "code",
   "execution_count": null,
   "metadata": {},
   "outputs": [],
   "source": [
    "# CNN2\n",
    "\n",
    "model_CNN2 = models.Sequential()\n",
    "model_CNN2.add(layers.Conv2D(32, (3, 3), activation='relu', input_shape=(32, 32, 3)))\n",
    "model_CNN2.add(layers.MaxPooling2D((2, 2)))\n",
    "model_CNN2.add(layers.Conv2D(64, (3, 3), activation='relu'))\n",
    "model_CNN2.add(layers.MaxPooling2D((2, 2)))\n",
    "model_CNN2.add(layers.Conv2D(64, (3, 3), activation='relu'))\n",
    "model_CNN2.summary()"
   ]
  },
  {
   "cell_type": "code",
   "execution_count": null,
   "metadata": {},
   "outputs": [],
   "source": [
    "# CNN3\n",
    "\n",
    "model_CNN3 = models.Sequential()\n",
    "model_CNN3.add(layers.Conv2D(32, (3, 3), activation='relu', input_shape=(32, 32, 3)))\n",
    "model_CNN3.add(layers.MaxPooling2D((2, 2)))\n",
    "model_CNN3.add(layers.Conv2D(64, (3, 3), activation='relu'))\n",
    "model_CNN3.add(layers.MaxPooling2D((2, 2)))\n",
    "model_CNN3.add(layers.Conv2D(64, (3, 3), activation='relu'))\n",
    "model_CNN3.summary()"
   ]
  },
  {
   "cell_type": "code",
   "execution_count": null,
   "metadata": {},
   "outputs": [],
   "source": [
    "# CNN1\n",
    "\n",
    "model_CNN1.compile(\n",
    "  optimizer='adam',\n",
    "  loss=keras.losses.SparseCategoricalCrossentropy(from_logits=True),\n",
    "  metrics=['accuracy'])\n",
    "# Model Fitting\n",
    "model_CNN1.fit(\n",
    "  train_images,\n",
    "  y_train,\n",
    "  epochs=10, \n",
    "  validation_data=(test_images, y_test)\n",
    "  )\n",
    "\n",
    "# CNN2\n",
    "model_CNN2.compile(\n",
    "  optimizer='adam',\n",
    "  loss=keras.losses.SparseCategoricalCrossentropy(from_logits=True),\n",
    "  metrics=['accuracy'])\n",
    "# Model Fitting\n",
    "model_CNN2.fit(\n",
    "  train_images,\n",
    "  y_train,\n",
    "  epochs=10, \n",
    "  validation_data=(test_images, y_test)\n",
    "  )\n",
    "\n",
    "# CNN3\n",
    "model_CNN3.compile(\n",
    "  optimizer='adam',\n",
    "  loss=keras.losses.SparseCategoricalCrossentropy(from_logits=True),\n",
    "  metrics=['accuracy'])\n",
    "# Model Fitting\n",
    "model_CNN3.fit(\n",
    "  train_images,\n",
    "  y_train,\n",
    "  epochs=10, \n",
    "  validation_data=(test_images, y_test)\n",
    "  )"
   ]
  }
 ],
 "metadata": {
  "kernelspec": {
   "display_name": "Python 3.9.12 ('base')",
   "language": "python",
   "name": "python3"
  },
  "language_info": {
   "codemirror_mode": {
    "name": "ipython",
    "version": 3
   },
   "file_extension": ".py",
   "mimetype": "text/x-python",
   "name": "python",
   "nbconvert_exporter": "python",
   "pygments_lexer": "ipython3",
   "version": "3.9.12"
  },
  "orig_nbformat": 4,
  "vscode": {
   "interpreter": {
    "hash": "3eb825599874f73d53a28eb1517ebf1ba28ce5d8e92d7a88138417e905ce08d5"
   }
  }
 },
 "nbformat": 4,
 "nbformat_minor": 2
}
