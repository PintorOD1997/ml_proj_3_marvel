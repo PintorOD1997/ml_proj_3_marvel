{
 "cells": [
  {
   "cell_type": "markdown",
   "metadata": {},
   "source": [
    "# Test 1, Checking the import of the Marvel Dataset Images"
   ]
  },
  {
   "cell_type": "code",
   "execution_count": 3,
   "metadata": {},
   "outputs": [],
   "source": [
    "# Using os to create a unique list of the folders in the directory\n",
    "import os\n",
    "images_dir = \"files/MarvelDataSet\"\n",
    "supers = os.listdir(images_dir)\n"
   ]
  },
  {
   "cell_type": "code",
   "execution_count": 4,
   "metadata": {},
   "outputs": [],
   "source": [
    "# So, apparently Keras has the nuclear option for creating a dataset from directory with images LOL.\n",
    "from tensorflow import keras\n",
    "\n"
   ]
  },
  {
   "cell_type": "code",
   "execution_count": 14,
   "metadata": {},
   "outputs": [
    {
     "name": "stdout",
     "output_type": "stream",
     "text": [
      "Found 1239 files belonging to 20 classes.\n",
      "Using 868 files for training.\n",
      "Found 1239 files belonging to 20 classes.\n",
      "Using 371 files for validation.\n"
     ]
    }
   ],
   "source": [
    "\n",
    "marvelDataset_training = keras.utils.image_dataset_from_directory(\n",
    "    images_dir,\n",
    "    labels = \"inferred\",\n",
    "    label_mode = \"int\",\n",
    "    image_size = (256, 256),\n",
    "    shuffle = True,\n",
    "    seed = 56,\n",
    "    subset = \"training\",\n",
    "    validation_split = 0.3\n",
    "    )\n",
    "\n",
    "marvelDataset_test = keras.utils.image_dataset_from_directory(\n",
    "    images_dir,\n",
    "    labels = \"inferred\",\n",
    "    label_mode = \"int\",\n",
    "    image_size = (256, 256),\n",
    "    shuffle = True,\n",
    "    seed = 56,\n",
    "    subset = \"validation\",\n",
    "    validation_split = 0.3\n",
    "    )"
   ]
  },
  {
   "cell_type": "code",
   "execution_count": 15,
   "metadata": {},
   "outputs": [
    {
     "name": "stdout",
     "output_type": "stream",
     "text": [
      "['AntMan', 'BlackPanther', 'BlackWidow', 'CaptainAmerica', 'CaptainMarvel', 'DrStrange', 'Drax', 'Gamora', 'HawkEye', 'Hulk', 'Ironman', 'Loki', 'Quake', 'ScarlettWitch', 'Spiderman', 'Thor', 'Valkyrie', 'Vision', 'WinterSoldier', 'Yondu']\n"
     ]
    }
   ],
   "source": [
    "class_names = marvelDataset_training.class_names\n",
    "print(class_names)\n"
   ]
  },
  {
   "cell_type": "code",
   "execution_count": null,
   "metadata": {},
   "outputs": [],
   "source": []
  }
 ],
 "metadata": {
  "kernelspec": {
   "display_name": "Python 3.9.13 ('NeuralAble')",
   "language": "python",
   "name": "python3"
  },
  "language_info": {
   "codemirror_mode": {
    "name": "ipython",
    "version": 3
   },
   "file_extension": ".py",
   "mimetype": "text/x-python",
   "name": "python",
   "nbconvert_exporter": "python",
   "pygments_lexer": "ipython3",
   "version": "3.9.13"
  },
  "orig_nbformat": 4,
  "vscode": {
   "interpreter": {
    "hash": "d9cc34cadf1969b309f5209fc9a2a5a3d06de0c3de025e36a29d8c7ab5eab88f"
   }
  }
 },
 "nbformat": 4,
 "nbformat_minor": 2
}
